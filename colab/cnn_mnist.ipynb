{
 "cells": [
  {
   "cell_type": "code",
   "execution_count": 1,
   "metadata": {
    "colab": {
     "base_uri": "https://localhost:8080/"
    },
    "id": "pzZPaZoJP9wl",
    "outputId": "aefe8ea7-f126-48d5-eca5-f6a0abc2639a"
   },
   "outputs": [
    {
     "name": "stdout",
     "output_type": "stream",
     "text": [
      "Python 3.10.12\n",
      "2.1.0+cu121\n",
      "0.16.0+cu121\n"
     ]
    }
   ],
   "source": [
    "!python --version  # Python 3.10.12\n",
    "!python -c 'import torch; print(torch.__version__)'  # 2.1.0+cu121\n",
    "!python -c 'import torchvision; print(torchvision.__version__)'  # 0.16.0+cu121"
   ]
  },
  {
   "cell_type": "code",
   "execution_count": 2,
   "metadata": {
    "colab": {
     "base_uri": "https://localhost:8080/",
     "height": 1000
    },
    "id": "xDgZtYVWQERS",
    "outputId": "c32a8e96-037e-4ded-972e-1d40792c68ed"
   },
   "outputs": [
    {
     "name": "stdout",
     "output_type": "stream",
     "text": [
      "Cloning into 'study_pytorch'...\n",
      "remote: Enumerating objects: 428, done.\u001b[K\n",
      "remote: Counting objects: 100% (428/428), done.\u001b[K\n",
      "remote: Compressing objects: 100% (272/272), done.\u001b[K\n",
      "remote: Total 428 (delta 235), reused 325 (delta 132), pack-reused 0\u001b[K\n",
      "Receiving objects: 100% (428/428), 3.81 MiB | 21.32 MiB/s, done.\n",
      "Resolving deltas: 100% (235/235), done.\n",
      "Collecting certifi==2023.11.17 (from -r requirements-colab.txt (line 10))\n",
      "  Downloading certifi-2023.11.17-py3-none-any.whl (162 kB)\n",
      "\u001b[2K     \u001b[90m━━━━━━━━━━━━━━━━━━━━━━━━━━━━━━━━━━━━━━━━\u001b[0m \u001b[32m162.5/162.5 kB\u001b[0m \u001b[31m3.0 MB/s\u001b[0m eta \u001b[36m0:00:00\u001b[0m\n",
      "\u001b[?25hRequirement already satisfied: charset-normalizer==3.3.2 in /usr/local/lib/python3.10/dist-packages (from -r requirements-colab.txt (line 11)) (3.3.2)\n",
      "Requirement already satisfied: contourpy==1.2.0 in /usr/local/lib/python3.10/dist-packages (from -r requirements-colab.txt (line 12)) (1.2.0)\n",
      "Requirement already satisfied: cycler==0.12.1 in /usr/local/lib/python3.10/dist-packages (from -r requirements-colab.txt (line 13)) (0.12.1)\n",
      "Requirement already satisfied: filelock==3.13.1 in /usr/local/lib/python3.10/dist-packages (from -r requirements-colab.txt (line 14)) (3.13.1)\n",
      "Collecting fonttools==4.47.2 (from -r requirements-colab.txt (line 15))\n",
      "  Downloading fonttools-4.47.2-cp310-cp310-manylinux_2_17_x86_64.manylinux2014_x86_64.whl (4.6 MB)\n",
      "\u001b[2K     \u001b[90m━━━━━━━━━━━━━━━━━━━━━━━━━━━━━━━━━━━━━━━━\u001b[0m \u001b[32m4.6/4.6 MB\u001b[0m \u001b[31m17.3 MB/s\u001b[0m eta \u001b[36m0:00:00\u001b[0m\n",
      "\u001b[?25hCollecting fsspec==2023.12.2 (from -r requirements-colab.txt (line 16))\n",
      "  Downloading fsspec-2023.12.2-py3-none-any.whl (168 kB)\n",
      "\u001b[2K     \u001b[90m━━━━━━━━━━━━━━━━━━━━━━━━━━━━━━━━━━━━━━━━\u001b[0m \u001b[32m169.0/169.0 kB\u001b[0m \u001b[31m19.7 MB/s\u001b[0m eta \u001b[36m0:00:00\u001b[0m\n",
      "\u001b[?25hRequirement already satisfied: idna==3.6 in /usr/local/lib/python3.10/dist-packages (from -r requirements-colab.txt (line 17)) (3.6)\n",
      "Requirement already satisfied: jinja2==3.1.3 in /usr/local/lib/python3.10/dist-packages (from -r requirements-colab.txt (line 18)) (3.1.3)\n",
      "Requirement already satisfied: joblib==1.3.2 in /usr/local/lib/python3.10/dist-packages (from -r requirements-colab.txt (line 19)) (1.3.2)\n",
      "Requirement already satisfied: kiwisolver==1.4.5 in /usr/local/lib/python3.10/dist-packages (from -r requirements-colab.txt (line 20)) (1.4.5)\n",
      "Collecting markupsafe==2.1.4 (from -r requirements-colab.txt (line 21))\n",
      "  Downloading MarkupSafe-2.1.4-cp310-cp310-manylinux_2_17_x86_64.manylinux2014_x86_64.whl (25 kB)\n",
      "Collecting matplotlib==3.8.2 (from -r requirements-colab.txt (line 22))\n",
      "  Downloading matplotlib-3.8.2-cp310-cp310-manylinux_2_17_x86_64.manylinux2014_x86_64.whl (11.6 MB)\n",
      "\u001b[2K     \u001b[90m━━━━━━━━━━━━━━━━━━━━━━━━━━━━━━━━━━━━━━━━\u001b[0m \u001b[32m11.6/11.6 MB\u001b[0m \u001b[31m40.4 MB/s\u001b[0m eta \u001b[36m0:00:00\u001b[0m\n",
      "\u001b[?25hCollecting mlxtend==0.23.1 (from -r requirements-colab.txt (line 23))\n",
      "  Downloading mlxtend-0.23.1-py3-none-any.whl (1.4 MB)\n",
      "\u001b[2K     \u001b[90m━━━━━━━━━━━━━━━━━━━━━━━━━━━━━━━━━━━━━━━━\u001b[0m \u001b[32m1.4/1.4 MB\u001b[0m \u001b[31m45.4 MB/s\u001b[0m eta \u001b[36m0:00:00\u001b[0m\n",
      "\u001b[?25hRequirement already satisfied: mpmath==1.3.0 in /usr/local/lib/python3.10/dist-packages (from -r requirements-colab.txt (line 24)) (1.3.0)\n",
      "Requirement already satisfied: networkx==3.2.1 in /usr/local/lib/python3.10/dist-packages (from -r requirements-colab.txt (line 25)) (3.2.1)\n",
      "Collecting nptyping==2.5.0 (from -r requirements-colab.txt (line 26))\n",
      "  Downloading nptyping-2.5.0-py3-none-any.whl (37 kB)\n",
      "Collecting numpy==1.26.3 (from -r requirements-colab.txt (line 27))\n",
      "  Downloading numpy-1.26.3-cp310-cp310-manylinux_2_17_x86_64.manylinux2014_x86_64.whl (18.2 MB)\n",
      "\u001b[2K     \u001b[90m━━━━━━━━━━━━━━━━━━━━━━━━━━━━━━━━━━━━━━━━\u001b[0m \u001b[32m18.2/18.2 MB\u001b[0m \u001b[31m58.7 MB/s\u001b[0m eta \u001b[36m0:00:00\u001b[0m\n",
      "\u001b[?25hRequirement already satisfied: packaging==23.2 in /usr/local/lib/python3.10/dist-packages (from -r requirements-colab.txt (line 28)) (23.2)\n",
      "Collecting pandas==2.2.0 (from -r requirements-colab.txt (line 29))\n",
      "  Downloading pandas-2.2.0-cp310-cp310-manylinux_2_17_x86_64.manylinux2014_x86_64.whl (13.0 MB)\n",
      "\u001b[2K     \u001b[90m━━━━━━━━━━━━━━━━━━━━━━━━━━━━━━━━━━━━━━━━\u001b[0m \u001b[32m13.0/13.0 MB\u001b[0m \u001b[31m73.6 MB/s\u001b[0m eta \u001b[36m0:00:00\u001b[0m\n",
      "\u001b[?25hCollecting pandas-stubs==2.1.4.231227 (from -r requirements-colab.txt (line 30))\n",
      "  Downloading pandas_stubs-2.1.4.231227-py3-none-any.whl (153 kB)\n",
      "\u001b[2K     \u001b[90m━━━━━━━━━━━━━━━━━━━━━━━━━━━━━━━━━━━━━━━━\u001b[0m \u001b[32m153.6/153.6 kB\u001b[0m \u001b[31m18.1 MB/s\u001b[0m eta \u001b[36m0:00:00\u001b[0m\n",
      "\u001b[?25hCollecting pillow==10.2.0 (from -r requirements-colab.txt (line 31))\n",
      "  Downloading pillow-10.2.0-cp310-cp310-manylinux_2_28_x86_64.whl (4.5 MB)\n",
      "\u001b[2K     \u001b[90m━━━━━━━━━━━━━━━━━━━━━━━━━━━━━━━━━━━━━━━━\u001b[0m \u001b[32m4.5/4.5 MB\u001b[0m \u001b[31m90.1 MB/s\u001b[0m eta \u001b[36m0:00:00\u001b[0m\n",
      "\u001b[?25hRequirement already satisfied: pyparsing==3.1.1 in /usr/local/lib/python3.10/dist-packages (from -r requirements-colab.txt (line 32)) (3.1.1)\n",
      "Requirement already satisfied: python-dateutil==2.8.2 in /usr/local/lib/python3.10/dist-packages (from -r requirements-colab.txt (line 33)) (2.8.2)\n",
      "Requirement already satisfied: pytz==2023.4 in /usr/local/lib/python3.10/dist-packages (from -r requirements-colab.txt (line 34)) (2023.4)\n",
      "Requirement already satisfied: requests==2.31.0 in /usr/local/lib/python3.10/dist-packages (from -r requirements-colab.txt (line 35)) (2.31.0)\n",
      "Collecting scikit-learn==1.4.0 (from -r requirements-colab.txt (line 36))\n",
      "  Downloading scikit_learn-1.4.0-1-cp310-cp310-manylinux_2_17_x86_64.manylinux2014_x86_64.whl (12.1 MB)\n",
      "\u001b[2K     \u001b[90m━━━━━━━━━━━━━━━━━━━━━━━━━━━━━━━━━━━━━━━━\u001b[0m \u001b[32m12.1/12.1 MB\u001b[0m \u001b[31m84.8 MB/s\u001b[0m eta \u001b[36m0:00:00\u001b[0m\n",
      "\u001b[?25hCollecting scipy==1.12.0 (from -r requirements-colab.txt (line 37))\n",
      "  Downloading scipy-1.12.0-cp310-cp310-manylinux_2_17_x86_64.manylinux2014_x86_64.whl (38.4 MB)\n",
      "\u001b[2K     \u001b[90m━━━━━━━━━━━━━━━━━━━━━━━━━━━━━━━━━━━━━━━━\u001b[0m \u001b[32m38.4/38.4 MB\u001b[0m \u001b[31m7.9 MB/s\u001b[0m eta \u001b[36m0:00:00\u001b[0m\n",
      "\u001b[?25hRequirement already satisfied: six==1.16.0 in /usr/local/lib/python3.10/dist-packages (from -r requirements-colab.txt (line 38)) (1.16.0)\n",
      "Requirement already satisfied: sympy==1.12 in /usr/local/lib/python3.10/dist-packages (from -r requirements-colab.txt (line 39)) (1.12)\n",
      "Requirement already satisfied: threadpoolctl==3.2.0 in /usr/local/lib/python3.10/dist-packages (from -r requirements-colab.txt (line 40)) (3.2.0)\n",
      "Requirement already satisfied: torch==2.1.0+cu121 in /usr/local/lib/python3.10/dist-packages (from -r requirements-colab.txt (line 41)) (2.1.0+cu121)\n",
      "Requirement already satisfied: torchvision==0.16.0+cu121 in /usr/local/lib/python3.10/dist-packages (from -r requirements-colab.txt (line 42)) (0.16.0+cu121)\n",
      "Collecting types-pytz==2023.4.0.20240130 (from -r requirements-colab.txt (line 43))\n",
      "  Downloading types_pytz-2023.4.0.20240130-py3-none-any.whl (5.1 kB)\n",
      "Requirement already satisfied: typing-extensions==4.9.0 in /usr/local/lib/python3.10/dist-packages (from -r requirements-colab.txt (line 44)) (4.9.0)\n",
      "Collecting tzdata==2023.4 (from -r requirements-colab.txt (line 45))\n",
      "  Downloading tzdata-2023.4-py2.py3-none-any.whl (346 kB)\n",
      "\u001b[2K     \u001b[90m━━━━━━━━━━━━━━━━━━━━━━━━━━━━━━━━━━━━━━━━\u001b[0m \u001b[32m346.6/346.6 kB\u001b[0m \u001b[31m18.5 MB/s\u001b[0m eta \u001b[36m0:00:00\u001b[0m\n",
      "\u001b[?25hCollecting urllib3==2.2.0 (from -r requirements-colab.txt (line 46))\n",
      "  Downloading urllib3-2.2.0-py3-none-any.whl (120 kB)\n",
      "\u001b[2K     \u001b[90m━━━━━━━━━━━━━━━━━━━━━━━━━━━━━━━━━━━━━━━━\u001b[0m \u001b[32m120.9/120.9 kB\u001b[0m \u001b[31m9.5 MB/s\u001b[0m eta \u001b[36m0:00:00\u001b[0m\n",
      "\u001b[?25hRequirement already satisfied: triton==2.1.0 in /usr/local/lib/python3.10/dist-packages (from torch==2.1.0+cu121->-r requirements-colab.txt (line 41)) (2.1.0)\n",
      "Installing collected packages: urllib3, tzdata, types-pytz, pillow, numpy, markupsafe, fsspec, fonttools, certifi, scipy, pandas-stubs, pandas, nptyping, scikit-learn, matplotlib, mlxtend\n",
      "  Attempting uninstall: urllib3\n",
      "    Found existing installation: urllib3 2.0.7\n",
      "    Uninstalling urllib3-2.0.7:\n",
      "      Successfully uninstalled urllib3-2.0.7\n",
      "  Attempting uninstall: types-pytz\n",
      "    Found existing installation: types-pytz 2024.1.0.20240203\n",
      "    Uninstalling types-pytz-2024.1.0.20240203:\n",
      "      Successfully uninstalled types-pytz-2024.1.0.20240203\n",
      "  Attempting uninstall: pillow\n",
      "    Found existing installation: Pillow 9.4.0\n",
      "    Uninstalling Pillow-9.4.0:\n",
      "      Successfully uninstalled Pillow-9.4.0\n",
      "  Attempting uninstall: numpy\n",
      "    Found existing installation: numpy 1.25.2\n",
      "    Uninstalling numpy-1.25.2:\n",
      "      Successfully uninstalled numpy-1.25.2\n",
      "  Attempting uninstall: markupsafe\n",
      "    Found existing installation: MarkupSafe 2.1.5\n",
      "    Uninstalling MarkupSafe-2.1.5:\n",
      "      Successfully uninstalled MarkupSafe-2.1.5\n",
      "  Attempting uninstall: fsspec\n",
      "    Found existing installation: fsspec 2023.6.0\n",
      "    Uninstalling fsspec-2023.6.0:\n",
      "      Successfully uninstalled fsspec-2023.6.0\n",
      "  Attempting uninstall: fonttools\n",
      "    Found existing installation: fonttools 4.48.1\n",
      "    Uninstalling fonttools-4.48.1:\n",
      "      Successfully uninstalled fonttools-4.48.1\n",
      "  Attempting uninstall: certifi\n",
      "    Found existing installation: certifi 2024.2.2\n",
      "    Uninstalling certifi-2024.2.2:\n",
      "      Successfully uninstalled certifi-2024.2.2\n",
      "  Attempting uninstall: scipy\n",
      "    Found existing installation: scipy 1.11.4\n",
      "    Uninstalling scipy-1.11.4:\n",
      "      Successfully uninstalled scipy-1.11.4\n",
      "  Attempting uninstall: pandas-stubs\n",
      "    Found existing installation: pandas-stubs 1.5.3.230304\n",
      "    Uninstalling pandas-stubs-1.5.3.230304:\n",
      "      Successfully uninstalled pandas-stubs-1.5.3.230304\n",
      "  Attempting uninstall: pandas\n",
      "    Found existing installation: pandas 1.5.3\n",
      "    Uninstalling pandas-1.5.3:\n",
      "      Successfully uninstalled pandas-1.5.3\n",
      "  Attempting uninstall: scikit-learn\n",
      "    Found existing installation: scikit-learn 1.2.2\n",
      "    Uninstalling scikit-learn-1.2.2:\n",
      "      Successfully uninstalled scikit-learn-1.2.2\n",
      "  Attempting uninstall: matplotlib\n",
      "    Found existing installation: matplotlib 3.7.1\n",
      "    Uninstalling matplotlib-3.7.1:\n",
      "      Successfully uninstalled matplotlib-3.7.1\n",
      "  Attempting uninstall: mlxtend\n",
      "    Found existing installation: mlxtend 0.22.0\n",
      "    Uninstalling mlxtend-0.22.0:\n",
      "      Successfully uninstalled mlxtend-0.22.0\n",
      "\u001b[31mERROR: pip's dependency resolver does not currently take into account all the packages that are installed. This behaviour is the source of the following dependency conflicts.\n",
      "lida 0.0.10 requires fastapi, which is not installed.\n",
      "lida 0.0.10 requires kaleido, which is not installed.\n",
      "lida 0.0.10 requires python-multipart, which is not installed.\n",
      "lida 0.0.10 requires uvicorn, which is not installed.\n",
      "bigframes 0.20.1 requires pandas<2.1.4,>=1.5.0, but you have pandas 2.2.0 which is incompatible.\n",
      "gcsfs 2023.6.0 requires fsspec==2023.6.0, but you have fsspec 2023.12.2 which is incompatible.\n",
      "google-colab 1.0.0 requires pandas==1.5.3, but you have pandas 2.2.0 which is incompatible.\n",
      "imageio 2.31.6 requires pillow<10.1.0,>=8.3.2, but you have pillow 10.2.0 which is incompatible.\u001b[0m\u001b[31m\n",
      "\u001b[0mSuccessfully installed certifi-2023.11.17 fonttools-4.47.2 fsspec-2023.12.2 markupsafe-2.1.4 matplotlib-3.8.2 mlxtend-0.23.1 nptyping-2.5.0 numpy-1.26.3 pandas-2.2.0 pandas-stubs-2.1.4.231227 pillow-10.2.0 scikit-learn-1.4.0 scipy-1.12.0 types-pytz-2023.4.0.20240130 tzdata-2023.4 urllib3-2.2.0\n"
     ]
    },
    {
     "data": {
      "application/vnd.colab-display-data+json": {
       "pip_warning": {
        "packages": [
         "PIL",
         "certifi",
         "matplotlib",
         "mpl_toolkits"
        ]
       }
      }
     },
     "metadata": {},
     "output_type": "display_data"
    }
   ],
   "source": [
    "!git clone https://github.com/wakabame/study_pytorch.git\n",
    "# 処理とは関係ないファイルはすべて削除する\n",
    "!mv ./study_pytorch ./study_pytorch_\n",
    "!mv ./study_pytorch_/study_pytorch .\n",
    "!mv ./study_pytorch_/requirements-colab.txt .\n",
    "!rm -rf ./study_pytorch_\n",
    "!pip install -r requirements-colab.txt"
   ]
  },
  {
   "cell_type": "code",
   "execution_count": 4,
   "metadata": {
    "colab": {
     "base_uri": "https://localhost:8080/"
    },
    "id": "85MdEV1LQKWn",
    "outputId": "4efa403a-29e5-4105-87db-1e61c9ae8ffc"
   },
   "outputs": [
    {
     "name": "stdout",
     "output_type": "stream",
     "text": [
      "Downloading http://yann.lecun.com/exdb/mnist/train-images-idx3-ubyte.gz\n",
      "Downloading http://yann.lecun.com/exdb/mnist/train-images-idx3-ubyte.gz to ./MNIST/raw/train-images-idx3-ubyte.gz\n"
     ]
    },
    {
     "name": "stderr",
     "output_type": "stream",
     "text": [
      "100%|██████████| 9912422/9912422 [00:00<00:00, 89114998.17it/s]\n"
     ]
    },
    {
     "name": "stdout",
     "output_type": "stream",
     "text": [
      "Extracting ./MNIST/raw/train-images-idx3-ubyte.gz to ./MNIST/raw\n",
      "\n",
      "Downloading http://yann.lecun.com/exdb/mnist/train-labels-idx1-ubyte.gz\n",
      "Downloading http://yann.lecun.com/exdb/mnist/train-labels-idx1-ubyte.gz to ./MNIST/raw/train-labels-idx1-ubyte.gz\n"
     ]
    },
    {
     "name": "stderr",
     "output_type": "stream",
     "text": [
      "100%|██████████| 28881/28881 [00:00<00:00, 6899173.81it/s]"
     ]
    },
    {
     "name": "stdout",
     "output_type": "stream",
     "text": [
      "Extracting ./MNIST/raw/train-labels-idx1-ubyte.gz to ./MNIST/raw\n",
      "\n",
      "Downloading http://yann.lecun.com/exdb/mnist/t10k-images-idx3-ubyte.gz\n",
      "Downloading http://yann.lecun.com/exdb/mnist/t10k-images-idx3-ubyte.gz to ./MNIST/raw/t10k-images-idx3-ubyte.gz\n"
     ]
    },
    {
     "name": "stderr",
     "output_type": "stream",
     "text": [
      "\n",
      "100%|██████████| 1648877/1648877 [00:00<00:00, 29153053.39it/s]\n"
     ]
    },
    {
     "name": "stdout",
     "output_type": "stream",
     "text": [
      "Extracting ./MNIST/raw/t10k-images-idx3-ubyte.gz to ./MNIST/raw\n",
      "\n",
      "Downloading http://yann.lecun.com/exdb/mnist/t10k-labels-idx1-ubyte.gz\n",
      "Downloading http://yann.lecun.com/exdb/mnist/t10k-labels-idx1-ubyte.gz to ./MNIST/raw/t10k-labels-idx1-ubyte.gz\n"
     ]
    },
    {
     "name": "stderr",
     "output_type": "stream",
     "text": [
      "100%|██████████| 4542/4542 [00:00<00:00, 10690532.42it/s]"
     ]
    },
    {
     "name": "stdout",
     "output_type": "stream",
     "text": [
      "Extracting ./MNIST/raw/t10k-labels-idx1-ubyte.gz to ./MNIST/raw\n",
      "\n"
     ]
    },
    {
     "name": "stderr",
     "output_type": "stream",
     "text": [
      "\n"
     ]
    }
   ],
   "source": [
    "import torchvision\n",
    "from torchvision import transforms\n",
    "\n",
    "image_path = \"./\"\n",
    "transform = transforms.Compose([transforms.ToTensor()])\n",
    "mnist_dataset = torchvision.datasets.MNIST(root=image_path, train=True, transform=transform, download=True)"
   ]
  },
  {
   "cell_type": "code",
   "execution_count": 5,
   "metadata": {
    "id": "wxzQ9VFLQgc4"
   },
   "outputs": [],
   "source": [
    "import torch\n",
    "from torch.utils.data import Subset\n",
    "\n",
    "mnist_valid_dataset = Subset(mnist_dataset, torch.arange(10000))\n",
    "mnist_train_dataset = Subset(mnist_dataset, torch.arange(10000, len(mnist_dataset)))\n",
    "mnist_test_dataset = torchvision.datasets.MNIST(root=image_path, train=False, transform=transform, download=False)"
   ]
  },
  {
   "cell_type": "code",
   "execution_count": 6,
   "metadata": {
    "id": "ibmHp4LHQ71P"
   },
   "outputs": [],
   "source": [
    "from torch.utils.data import DataLoader\n",
    "\n",
    "batch_size = 64\n",
    "torch.manual_seed(1)\n",
    "train_dl = DataLoader(mnist_train_dataset, batch_size, shuffle=True)\n",
    "valid_dl = DataLoader(mnist_valid_dataset, batch_size, shuffle=False)"
   ]
  },
  {
   "cell_type": "markdown",
   "metadata": {
    "id": "byv5y7UJRLP6"
   },
   "source": [
    "## Pythorch での CNN の構築\n",
    "* 2次元の畳み込み層を定義する `nn.Conv2d` クラス\n",
    "  * 出力チャネルの個数\n",
    "  * カーネルサイズ\n",
    "  * オプションパラメータ\n",
    "    * ストライド、パディングなど\n",
    "  * NCHW\n",
    "    * N バッチ内の画像の個数\n",
    "    * C チャネル\n",
    "    * H たかさ\n",
    "    * W 幅\n",
    "* プーリング層を定義する `nn.MaxPool2d` クラス, `nn.AvgPool2d` クラス\n",
    "  * ウィンドウのサイズは `kernel_siz`e で決まる（`stride` を使うこともある）\n",
    "* ドロップアウト（正則化になる）を行う `nn.Dropout` クラス\n",
    "  * 学習時のみ"
   ]
  },
  {
   "cell_type": "code",
   "execution_count": 26,
   "metadata": {
    "id": "8wT4Aw-PRJ6p"
   },
   "outputs": [],
   "source": [
    "import torch.nn as nn\n",
    "\n",
    "model = nn.Sequential()\n",
    "model.add_module(\"conv1\", nn.Conv2d(in_channels=1, out_channels=32, kernel_size=5, padding=2))\n",
    "model.add_module(\"relu1\", nn.ReLU())\n",
    "model.add_module(\"pool1\", nn.MaxPool2d(kernel_size=2))\n",
    "model.add_module(\"conv2\", nn.Conv2d(in_channels=32, out_channels=64, kernel_size=5, padding=2))\n",
    "model.add_module(\"relu2\", nn.ReLU())\n",
    "model.add_module(\"pool2\", nn.MaxPool2d(kernel_size=2))"
   ]
  },
  {
   "cell_type": "code",
   "execution_count": 27,
   "metadata": {
    "colab": {
     "base_uri": "https://localhost:8080/"
    },
    "id": "vcVWIjIpTVIy",
    "outputId": "444f36e0-7258-4b09-e6c0-a63ecbc9d082"
   },
   "outputs": [
    {
     "data": {
      "text/plain": [
       "torch.Size([4, 64, 7, 7])"
      ]
     },
     "execution_count": 27,
     "metadata": {},
     "output_type": "execute_result"
    }
   ],
   "source": [
    "# NCHW形式のテンソルを与えて形状の確認\n",
    "x = torch.ones((4, 1, 28, 28))\n",
    "model(x).shape"
   ]
  },
  {
   "cell_type": "code",
   "execution_count": 28,
   "metadata": {
    "colab": {
     "base_uri": "https://localhost:8080/"
    },
    "id": "bTOqC_k8Thp5",
    "outputId": "f960dca9-2c9b-4b4d-d875-948f9f7a749b"
   },
   "outputs": [
    {
     "data": {
      "text/plain": [
       "torch.Size([4, 3136])"
      ]
     },
     "execution_count": 28,
     "metadata": {},
     "output_type": "execute_result"
    }
   ],
   "source": [
    "# 全結合層を作江精\n",
    "model.add_module(\"flatten\", nn.Flatten())\n",
    "model(x).shape"
   ]
  },
  {
   "cell_type": "code",
   "execution_count": 29,
   "metadata": {
    "id": "uBgsP7-dT1MI"
   },
   "outputs": [],
   "source": [
    "# ドロップアウト層を追加\n",
    "model.add_module(\"fc1\", nn.Linear(3136, 1024))\n",
    "model.add_module(\"relu3\", nn.ReLU())\n",
    "model.add_module(\"dropout\", nn.Dropout(p=0.5))\n",
    "model.add_module(\"fc2\", nn.Linear(1024, 10))\n",
    "model.add_module(\"softmax\", nn.Softmax(dim=1))"
   ]
  },
  {
   "cell_type": "code",
   "execution_count": 30,
   "metadata": {
    "id": "isi9Vi2yU6OJ"
   },
   "outputs": [],
   "source": [
    "loss_fn = nn.CrossEntropyLoss()\n",
    "optimizer = torch.optim.Adam(model.parameters(), lr=0.001)"
   ]
  },
  {
   "cell_type": "code",
   "execution_count": 31,
   "metadata": {
    "id": "Vms_zrjjVD6o"
   },
   "outputs": [],
   "source": [
    "def train(model, num_epochs, train_dl, valid_dl):\n",
    "    loss_hist_train = [0] * num_epochs\n",
    "    accuracy_hist_train = [0] * num_epochs\n",
    "    loss_hist_valid = [0] * num_epochs\n",
    "    accuracy_hist_valid = [0] * num_epochs\n",
    "\n",
    "    for epoch in range(num_epochs):\n",
    "        model.train()\n",
    "        for x_batch, y_batch in train_dl:\n",
    "            pred = model(x_batch)\n",
    "            loss = loss_fn(pred, y_batch)\n",
    "            loss.backward()\n",
    "            optimizer.step()\n",
    "            optimizer.zero_grad()\n",
    "            loss_hist_train[epoch] += loss.item() * y_batch.size(0)\n",
    "            is_correct = (torch.argmax(pred, dim=1) == y_batch).float()\n",
    "            accuracy_hist_train[epoch] += is_correct.sum()\n",
    "\n",
    "        loss_hist_train[epoch] /= len(train_dl.dataset)\n",
    "        accuracy_hist_train[epoch] /= len(train_dl.dataset)\n",
    "\n",
    "        model.eval()\n",
    "        with torch.no_grad():\n",
    "            for x_batch, y_batch in valid_dl:\n",
    "                pred = model(x_batch)\n",
    "                loss = loss_fn(pred, y_batch)\n",
    "                loss_hist_valid[epoch] += loss.item() * y_batch.size(0)\n",
    "                is_correct = (torch.argmax(pred, dim=1) == y_batch).float()\n",
    "                accuracy_hist_valid[epoch] += is_correct.sum()\n",
    "\n",
    "        loss_hist_valid[epoch] /= len(valid_dl.dataset)\n",
    "        accuracy_hist_valid[epoch] /= len(valid_dl.dataset)\n",
    "\n",
    "        print(\n",
    "            f\"Epoch {epoch+1} accurecy: {accuracy_hist_train[epoch]:.4f} \"\n",
    "            f\"val_accurecy: {accuracy_hist_valid[epoch]:.4f}\"\n",
    "        )\n",
    "\n",
    "    return loss_hist_train, loss_hist_valid, accuracy_hist_train, accuracy_hist_valid"
   ]
  },
  {
   "cell_type": "code",
   "execution_count": 33,
   "metadata": {
    "colab": {
     "base_uri": "https://localhost:8080/"
    },
    "id": "y1B-_mkUWhQF",
    "outputId": "6d9eb3b3-2be0-462d-bdd9-6b3a8b93740e"
   },
   "outputs": [
    {
     "name": "stdout",
     "output_type": "stream",
     "text": [
      "Epoch 1 accurecy: 0.9535 val_accurecy: 0.9728\n",
      "Epoch 2 accurecy: 0.9763 val_accurecy: 0.9783\n",
      "Epoch 3 accurecy: 0.9818 val_accurecy: 0.9849\n",
      "Epoch 4 accurecy: 0.9826 val_accurecy: 0.9808\n",
      "Epoch 5 accurecy: 0.9843 val_accurecy: 0.9834\n",
      "Epoch 6 accurecy: 0.9860 val_accurecy: 0.9797\n",
      "Epoch 7 accurecy: 0.9855 val_accurecy: 0.9869\n",
      "Epoch 8 accurecy: 0.9869 val_accurecy: 0.9852\n",
      "Epoch 9 accurecy: 0.9873 val_accurecy: 0.9871\n",
      "Epoch 10 accurecy: 0.9881 val_accurecy: 0.9868\n",
      "Epoch 11 accurecy: 0.9872 val_accurecy: 0.9873\n",
      "Epoch 12 accurecy: 0.9880 val_accurecy: 0.9845\n",
      "Epoch 13 accurecy: 0.9882 val_accurecy: 0.9881\n",
      "Epoch 14 accurecy: 0.9874 val_accurecy: 0.9850\n",
      "Epoch 15 accurecy: 0.9870 val_accurecy: 0.9873\n",
      "Epoch 16 accurecy: 0.9880 val_accurecy: 0.9860\n",
      "Epoch 17 accurecy: 0.9884 val_accurecy: 0.9861\n",
      "Epoch 18 accurecy: 0.9871 val_accurecy: 0.9808\n",
      "Epoch 19 accurecy: 0.9884 val_accurecy: 0.9864\n",
      "Epoch 20 accurecy: 0.9891 val_accurecy: 0.9815\n",
      "CPU times: user 1h 9min 56s, sys: 4min 44s, total: 1h 14min 41s\n",
      "Wall time: 1h 15min 57s\n"
     ]
    }
   ],
   "source": [
    "%%time\n",
    "torch.manual_seed(1)\n",
    "num_epochs = 20\n",
    "hist = train(model, num_epochs, train_dl, valid_dl)"
   ]
  },
  {
   "cell_type": "code",
   "execution_count": 34,
   "metadata": {
    "colab": {
     "base_uri": "https://localhost:8080/",
     "height": 394
    },
    "id": "U-B6Ne07WnXO",
    "outputId": "8772e04e-4b0e-47be-c013-c2c6d2c13635"
   },
   "outputs": [
    {
     "data": {
      "image/png": "[encoded data removed]",
      "text/plain": [
       "<Figure size 1200x400 with 2 Axes>"
      ]
     },
     "metadata": {},
     "output_type": "display_data"
    }
   ],
   "source": [
    "import matplotlib.pyplot as plt\n",
    "import numpy as np\n",
    "\n",
    "x_arr = np.arange(len(hist[0])) + 1\n",
    "fig = plt.figure(figsize=(12, 4))\n",
    "\n",
    "ax = fig.add_subplot(1, 2, 1)\n",
    "ax.plot(x_arr, hist[0], \"-o\", label=\"Train loss\")\n",
    "ax.plot(x_arr, hist[1], \"--<\", label=\"Validation loss\")\n",
    "ax.set_xlabel(\"Epoch\", size=15)\n",
    "ax.set_ylabel(\"Loss\", size=15)\n",
    "ax.legend(fontsize=15)\n",
    "\n",
    "ax = fig.add_subplot(1, 2, 2)\n",
    "ax.plot(x_arr, hist[2], \"-o\", label=\"Train acc.\")\n",
    "ax.plot(x_arr, hist[3], \"--<\", label=\"Validation acc.\")\n",
    "ax.set_xlabel(\"Epoch\", size=15)\n",
    "ax.set_ylabel(\"Accuracy\", size=15)\n",
    "ax.legend(fontsize=15)\n",
    "\n",
    "plt.show()"
   ]
  },
  {
   "cell_type": "code",
   "execution_count": 36,
   "metadata": {
    "colab": {
     "base_uri": "https://localhost:8080/"
    },
    "id": "KTnt1PHnZ26W",
    "outputId": "348bf8c7-f145-432a-e101-9cb7a73f9114"
   },
   "outputs": [
    {
     "name": "stdout",
     "output_type": "stream",
     "text": [
      "Test accurecy: 0.9842\n"
     ]
    }
   ],
   "source": [
    "# テストデータセットでの評価\n",
    "pred = model(mnist_test_dataset.data.unsqueeze(1) / 255.0)\n",
    "is_correct = (torch.argmax(pred, dim=1) == mnist_test_dataset.targets).float()\n",
    "print(f\"Test accurecy: {is_correct.mean():.4f}\")"
   ]
  },
  {
   "cell_type": "code",
   "execution_count": 39,
   "metadata": {
    "colab": {
     "base_uri": "https://localhost:8080/",
     "height": 337
    },
    "id": "Sesjkuywci79",
    "outputId": "469e5ae8-d2a1-404b-db8c-7ad82665c442"
   },
   "outputs": [
    {
     "data": {
      "image/png": "[encoded data removed]",
      "text/plain": [
       "<Figure size 1200x400 with 12 Axes>"
      ]
     },
     "metadata": {},
     "output_type": "display_data"
    }
   ],
   "source": [
    "# 入力値と予測したラベルの表示\n",
    "fig = plt.figure(figsize=(12, 4))\n",
    "for i in range(12):\n",
    "    ax = fig.add_subplot(2, 6, i + 1)\n",
    "    ax.set_xticks([])\n",
    "    ax.set_yticks([])\n",
    "    img = mnist_test_dataset[i][0][0, :, :]\n",
    "    pred = model(img.unsqueeze(0).unsqueeze(1))\n",
    "    y_pred = torch.argmax(pred)\n",
    "    ax.imshow(img, cmap=\"gray_r\")\n",
    "    ax.text(\n",
    "        0.9,\n",
    "        0.1,\n",
    "        y_pred.item(),\n",
    "        size=15,\n",
    "        color=\"blue\",\n",
    "        horizontalalignment=\"center\",\n",
    "        verticalalignment=\"center\",\n",
    "        transform=ax.transAxes,\n",
    "    )\n",
    "\n",
    "plt.show()"
   ]
  },
  {
   "cell_type": "code",
   "execution_count": null,
   "metadata": {
    "id": "sE1nGaAsdXaD"
   },
   "outputs": [],
   "source": []
  }
 ],
 "metadata": {
  "colab": {
   "provenance": []
  },
  "kernelspec": {
   "display_name": "Python 3",
   "name": "python3"
  },
  "language_info": {
   "name": "python"
  }
 },
 "nbformat": 4,
 "nbformat_minor": 0
}
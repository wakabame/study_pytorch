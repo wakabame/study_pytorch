{
 "cells": [
  {
   "cell_type": "markdown",
   "id": "ffa79c74-b11c-46ab-823f-034adc374f60",
   "metadata": {},
   "source": [
    "## PyTorch でテンソルを作成する"
   ]
  },
  {
   "cell_type": "code",
   "execution_count": 1,
   "id": "b8a09138-d19f-44e6-8e15-86fed84132f7",
   "metadata": {},
   "outputs": [],
   "source": [
    "import torch\n",
    "import numpy as np"
   ]
  },
  {
   "cell_type": "code",
   "execution_count": 2,
   "id": "5daed407-74c5-45f6-82fe-06aff25f7373",
   "metadata": {},
   "outputs": [],
   "source": [
    "np.set_printoptions(precision=3)"
   ]
  },
  {
   "cell_type": "code",
   "execution_count": 3,
   "id": "c2681d68-e914-48c9-98d5-0d79168fbb9c",
   "metadata": {},
   "outputs": [],
   "source": [
    "a = [1,2,3]"
   ]
  },
  {
   "cell_type": "code",
   "execution_count": 4,
   "id": "1a9ff849-404c-48e6-b364-be06d70e240b",
   "metadata": {},
   "outputs": [],
   "source": [
    "b=np.array([4,5,6], dtype=np.int32)"
   ]
  },
  {
   "cell_type": "code",
   "execution_count": 5,
   "id": "29619253-9c9f-4e81-9347-2864ca109191",
   "metadata": {},
   "outputs": [
    {
     "name": "stdout",
     "output_type": "stream",
     "text": [
      "torch.int64 tensor([1, 2, 3])\n",
      "torch.int32 tensor([4, 5, 6], dtype=torch.int32)\n"
     ]
    }
   ],
   "source": [
    "t_a = torch.tensor(a)\n",
    "t_b = torch.from_numpy(b)\n",
    "print(t_a.dtype, t_a,)\n",
    "print(t_b.dtype, t_b)"
   ]
  },
  {
   "cell_type": "code",
   "execution_count": null,
   "id": "c1f60938-71be-4908-9716-599fddee9893",
   "metadata": {},
   "outputs": [],
   "source": []
  },
  {
   "cell_type": "code",
   "execution_count": 6,
   "id": "5fe62d6e-ef21-43f8-991b-404c7deb5f97",
   "metadata": {},
   "outputs": [
    {
     "name": "stdout",
     "output_type": "stream",
     "text": [
      "torch.Size([2, 3]) tensor([[1., 1., 1.],\n",
      "        [1., 1., 1.]])\n"
     ]
    }
   ],
   "source": [
    "t_ones = torch.ones(2, 3)\n",
    "print(t_ones.shape, t_ones)"
   ]
  },
  {
   "cell_type": "markdown",
   "id": "a8f9052e-e4aa-4a9b-bdfa-4389758cace3",
   "metadata": {},
   "source": [
    "## テンソルのデータ型と形状を操作する"
   ]
  },
  {
   "cell_type": "code",
   "execution_count": 7,
   "id": "c2d14135-8644-4d2b-ac45-fb784667bb50",
   "metadata": {},
   "outputs": [
    {
     "name": "stdout",
     "output_type": "stream",
     "text": [
      "torch.int64\n"
     ]
    }
   ],
   "source": [
    "# データ型の変更\n",
    "t_a_new = t_a.to(torch.int64)\n",
    "print(t_a_new.dtype)"
   ]
  },
  {
   "cell_type": "code",
   "execution_count": 8,
   "id": "3b0bb3ee-26f4-4c3d-82e5-92ae68167aa6",
   "metadata": {},
   "outputs": [
    {
     "name": "stdout",
     "output_type": "stream",
     "text": [
      "tensor([[0.0099, 0.2070, 0.6138, 0.3401, 0.8758],\n",
      "        [0.1720, 0.9387, 0.1694, 0.9071, 0.8039],\n",
      "        [0.3158, 0.7982, 0.2375, 0.2291, 0.6493]])\n",
      "tensor([[0.0099, 0.1720, 0.3158],\n",
      "        [0.2070, 0.9387, 0.7982],\n",
      "        [0.6138, 0.1694, 0.2375],\n",
      "        [0.3401, 0.9071, 0.2291],\n",
      "        [0.8758, 0.8039, 0.6493]])\n"
     ]
    }
   ],
   "source": [
    "# テンソルの天地\n",
    "t = torch.rand(3,5)\n",
    "t_tr = torch.transpose(t, 0,1)\n",
    "print(t)\n",
    "print(t_tr)"
   ]
  },
  {
   "cell_type": "code",
   "execution_count": 9,
   "id": "cefaefd5-edb1-4465-88f8-4ad803f72328",
   "metadata": {},
   "outputs": [
    {
     "name": "stdout",
     "output_type": "stream",
     "text": [
      "tensor([0., 0., 0., 0., 0., 0., 0., 0., 0., 0., 0., 0., 0., 0., 0., 0., 0., 0., 0., 0., 0., 0., 0., 0.,\n",
      "        0., 0., 0., 0., 0., 0.])\n",
      "tensor([[0., 0., 0., 0., 0., 0.],\n",
      "        [0., 0., 0., 0., 0., 0.],\n",
      "        [0., 0., 0., 0., 0., 0.],\n",
      "        [0., 0., 0., 0., 0., 0.],\n",
      "        [0., 0., 0., 0., 0., 0.]])\n"
     ]
    }
   ],
   "source": [
    "# テンソルの形状変更\n",
    "t = torch.zeros(30)\n",
    "t_reshape =t.reshape(5, 6)\n",
    "print(t)\n",
    "print(t_reshape)"
   ]
  },
  {
   "cell_type": "code",
   "execution_count": 10,
   "id": "52c873d1-a774-4389-96f1-d722a9dbd871",
   "metadata": {},
   "outputs": [
    {
     "name": "stdout",
     "output_type": "stream",
     "text": [
      "tensor([[[[[0.],\n",
      "           [0.],\n",
      "           [0.],\n",
      "           [0.]]],\n",
      "\n",
      "\n",
      "         [[[0.],\n",
      "           [0.],\n",
      "           [0.],\n",
      "           [0.]]]]])\n",
      "tensor([[[[0.],\n",
      "          [0.],\n",
      "          [0.],\n",
      "          [0.]],\n",
      "\n",
      "         [[0.],\n",
      "          [0.],\n",
      "          [0.],\n",
      "          [0.]]]])\n"
     ]
    }
   ],
   "source": [
    "# 不要な次元の削除\n",
    "t = torch.zeros(1, 2, 1, 4, 1)\n",
    "t_sqz = torch.squeeze(t,2 )\n",
    "print(t)\n",
    "print(t_sqz)"
   ]
  },
  {
   "cell_type": "markdown",
   "id": "f5b4b1ee-8528-4ce3-835c-c3e5fbb27d73",
   "metadata": {},
   "source": [
    "## テンソルでの算術計算"
   ]
  },
  {
   "cell_type": "code",
   "execution_count": 11,
   "id": "ac47aa69-5a9d-4168-aa02-3efe25fffe30",
   "metadata": {},
   "outputs": [
    {
     "name": "stdout",
     "output_type": "stream",
     "text": [
      "tensor([[ 0.5153, -0.4414],\n",
      "        [-0.1939,  0.4694],\n",
      "        [-0.9414,  0.5997],\n",
      "        [-0.2057,  0.5087],\n",
      "        [ 0.1390, -0.1224]])\n",
      "tensor([[ 0.8590,  0.7056],\n",
      "        [-0.3406, -1.2720],\n",
      "        [-1.1948,  0.0250],\n",
      "        [-0.7627,  1.3969],\n",
      "        [-0.3245,  0.2879]])\n"
     ]
    }
   ],
   "source": [
    "torch.manual_seed(1)\n",
    "t1 = 2 * torch.rand(5,2) -1\n",
    "t2 = torch.normal(mean=0, std=1, size=(5,2))\n",
    "print(t1)\n",
    "print(t2)"
   ]
  },
  {
   "cell_type": "code",
   "execution_count": 12,
   "id": "36eccc9f-bd70-4588-97d5-4e215375366a",
   "metadata": {},
   "outputs": [
    {
     "name": "stdout",
     "output_type": "stream",
     "text": [
      "tensor([[ 0.4426, -0.3114],\n",
      "        [ 0.0660, -0.5970],\n",
      "        [ 1.1249,  0.0150],\n",
      "        [ 0.1569,  0.7107],\n",
      "        [-0.0451, -0.0352]])\n"
     ]
    }
   ],
   "source": [
    "t3 = torch.multiply(t1, t2) # 要素ごとの積\n",
    "print(t3)"
   ]
  },
  {
   "cell_type": "code",
   "execution_count": 13,
   "id": "4f42a407-6612-48b5-ad7d-bbd1c2bb20fd",
   "metadata": {},
   "outputs": [
    {
     "name": "stdout",
     "output_type": "stream",
     "text": [
      "tensor([-0.1373,  0.2028])\n"
     ]
    }
   ],
   "source": [
    "t4 = torch.mean(t1, axis=0)  # 軸方向への平均を求める\n",
    "print(t4)"
   ]
  },
  {
   "cell_type": "code",
   "execution_count": 14,
   "id": "a76d848d-ee78-4d87-8387-ddbe611330c9",
   "metadata": {},
   "outputs": [
    {
     "name": "stdout",
     "output_type": "stream",
     "text": [
      "tensor([[ 0.1312,  0.3860, -0.6267, -1.0096, -0.2943],\n",
      "        [ 0.1647, -0.5310,  0.2434,  0.8035,  0.1980],\n",
      "        [-0.3855, -0.4422,  1.1399,  1.5558,  0.4781],\n",
      "        [ 0.1822, -0.5771,  0.2585,  0.8676,  0.2132],\n",
      "        [ 0.0330,  0.1084, -0.1692, -0.2771, -0.0804]])\n"
     ]
    }
   ],
   "source": [
    "t5 = torch.matmul(t1, torch.transpose(t2, 0, 1))  # transpose で 5*2 行列に転置してから掛け算実施\n",
    "print(t5)"
   ]
  },
  {
   "cell_type": "code",
   "execution_count": 15,
   "id": "58ae1701-25e0-4027-b338-1e137877987e",
   "metadata": {},
   "outputs": [
    {
     "name": "stdout",
     "output_type": "stream",
     "text": [
      "tensor([[ 1.7453,  0.3392],\n",
      "        [-1.6038, -0.2180]])\n"
     ]
    }
   ],
   "source": [
    "t6 = torch.matmul(torch.transpose(t1, 0, 1), t2)  # transpose で 5*2 行列に転置してから掛け算実施\n",
    "print(t6)"
   ]
  },
  {
   "cell_type": "code",
   "execution_count": 16,
   "id": "779fbb35-417f-4043-9e5f-728c298e42ab",
   "metadata": {},
   "outputs": [
    {
     "name": "stdout",
     "output_type": "stream",
     "text": [
      "tensor([0.6785, 0.5078, 1.1162, 0.5488, 0.1853])\n"
     ]
    }
   ],
   "source": [
    "# テンソルの L^p ノルム\n",
    "norm_t1 = torch.linalg.norm(t1, ord=2, dim=1)\n",
    "print(norm_t1)"
   ]
  },
  {
   "cell_type": "markdown",
   "id": "fb125f64-c320-4447-8b1c-333b55277904",
   "metadata": {},
   "source": [
    "## テンソルの分割、積み上げ、連結"
   ]
  },
  {
   "cell_type": "code",
   "execution_count": 17,
   "id": "770fe39e-b93b-40c2-880c-1ec6800f1f02",
   "metadata": {},
   "outputs": [
    {
     "name": "stdout",
     "output_type": "stream",
     "text": [
      "tensor([0.7576, 0.2793, 0.4031, 0.7347, 0.0293, 0.7999])\n",
      "tensor([0.7576, 0.2793])\n",
      "tensor([0.4031, 0.7347])\n",
      "tensor([0.0293, 0.7999])\n"
     ]
    }
   ],
   "source": [
    "# 同じサイズでの分割\n",
    "torch.manual_seed(1)\n",
    "t = torch.rand(6)\n",
    "print(t)\n",
    "\n",
    "t_splits = torch.chunk(t,3)\n",
    "for itm in t_splits:\n",
    "    print(itm)"
   ]
  },
  {
   "cell_type": "code",
   "execution_count": 18,
   "id": "c1524695-0b78-4850-b6b6-521c604c0fe8",
   "metadata": {},
   "outputs": [
    {
     "name": "stdout",
     "output_type": "stream",
     "text": [
      "tensor([0.3971, 0.7544, 0.5695, 0.4388, 0.6387])\n",
      "tensor([0.3971, 0.7544, 0.5695])\n",
      "tensor([0.4388, 0.6387])\n"
     ]
    }
   ],
   "source": [
    "# 異なるサイズで分割\n",
    "t = torch.rand(5)\n",
    "print(t)\n",
    "\n",
    "t_splits = torch.split(t,split_size_or_sections=[3,2])\n",
    "for itm in t_splits:\n",
    "    print(itm)"
   ]
  },
  {
   "cell_type": "code",
   "execution_count": 19,
   "id": "b2ed7e86-7784-4b4b-949a-a124fae978da",
   "metadata": {},
   "outputs": [
    {
     "name": "stdout",
     "output_type": "stream",
     "text": [
      "tensor([0., 0., 0.]) tensor([1., 1.])\n",
      "tensor([0., 0., 0., 1., 1.])\n"
     ]
    }
   ],
   "source": [
    "# 連結\n",
    "A = torch.zeros(3)\n",
    "B = torch.ones(2)\n",
    "print(A, B)\n",
    "C = torch.cat([A, B], axis = 0)\n",
    "print(C)\n",
    "\n"
   ]
  },
  {
   "cell_type": "code",
   "execution_count": 20,
   "id": "b4d3ceac-02c8-40a2-89d4-36c64defd97f",
   "metadata": {},
   "outputs": [
    {
     "name": "stdout",
     "output_type": "stream",
     "text": [
      "tensor([0., 0., 0.]) tensor([1., 1., 1.])\n",
      "tensor([[0., 1.],\n",
      "        [0., 1.],\n",
      "        [0., 1.]])\n"
     ]
    }
   ],
   "source": [
    "# 積み上げ\n",
    "A = torch.zeros(3)\n",
    "B = torch.ones(3)\n",
    "print(A, B)\n",
    "C = torch.stack([A, B], axis = 1)\n",
    "print(C)"
   ]
  },
  {
   "cell_type": "markdown",
   "id": "06076935-e748-4772-84e6-c29a1d19cd20",
   "metadata": {},
   "source": [
    "# PyTorch での入力パイプラインの構築\n",
    "バッチごとに読み込む機能がある\n",
    "\n",
    "## DataLoader を作成"
   ]
  },
  {
   "cell_type": "code",
   "execution_count": 21,
   "id": "147b3a72-4871-496e-a21d-a07e2967c3ed",
   "metadata": {},
   "outputs": [
    {
     "name": "stdout",
     "output_type": "stream",
     "text": [
      "<torch.utils.data.dataloader.DataLoader object at 0x7fa8e92a94d0>\n"
     ]
    }
   ],
   "source": [
    "from torch.utils.data import DataLoader\n",
    "t = torch.arange(6, dtype=torch.float32)\n",
    "data_loader = DataLoader(t)\n",
    "print(data_loader)"
   ]
  },
  {
   "cell_type": "code",
   "execution_count": 22,
   "id": "81ccdecc-5510-412b-87bb-bed4de07ad9f",
   "metadata": {},
   "outputs": [
    {
     "name": "stdout",
     "output_type": "stream",
     "text": [
      "tensor([0.])\n",
      "tensor([1.])\n",
      "tensor([2.])\n",
      "tensor([3.])\n",
      "tensor([4.])\n",
      "tensor([5.])\n"
     ]
    }
   ],
   "source": [
    "for item in data_loader:\n",
    "    print(item)"
   ]
  },
  {
   "cell_type": "code",
   "execution_count": 23,
   "id": "84e12c15-104a-4465-bf27-71708f6dc76c",
   "metadata": {},
   "outputs": [
    {
     "name": "stdout",
     "output_type": "stream",
     "text": [
      "tensor([0., 1., 2.])\n",
      "tensor([3., 4., 5.])\n"
     ]
    }
   ],
   "source": [
    "data_loader = DataLoader(t,batch_size=3)\n",
    "\n",
    "for item in data_loader:\n",
    "    print(item)"
   ]
  },
  {
   "cell_type": "markdown",
   "id": "78d61527-795c-478d-9219-7370c1fbbc5c",
   "metadata": {},
   "source": [
    "## 二つのテンソルを一つのデータセットに結合する"
   ]
  },
  {
   "cell_type": "code",
   "execution_count": 24,
   "id": "f9ab009c-ca33-4d6d-bf44-45ecab663424",
   "metadata": {},
   "outputs": [
    {
     "name": "stdout",
     "output_type": "stream",
     "text": [
      "tensor([[0.7576, 0.2793, 0.4031],\n",
      "        [0.7347, 0.0293, 0.7999],\n",
      "        [0.3971, 0.7544, 0.5695],\n",
      "        [0.4388, 0.6387, 0.5247]])\n",
      "tensor([0, 1, 2, 3])\n"
     ]
    }
   ],
   "source": [
    "torch.manual_seed(1)\n",
    "t_x = torch.rand([4,3], dtype=torch.float32)\n",
    "t_y = torch.arange(4)\n",
    "print(t_x)\n",
    "print(t_y)"
   ]
  },
  {
   "cell_type": "code",
   "execution_count": 25,
   "id": "d0920d49-09de-4ede-845a-d204bdee2b24",
   "metadata": {},
   "outputs": [],
   "source": [
    "from torch.utils.data import Dataset\n",
    "class JointDataset(Dataset):\n",
    "    def __init__(self, x, y):\n",
    "        self.x = x\n",
    "        self.y = y\n",
    "\n",
    "    def __len__(self):\n",
    "        return len(self.x)\n",
    "\n",
    "    def __getitem__(self, idx):\n",
    "        return self.x[idx], self.y[idx]"
   ]
  },
  {
   "cell_type": "code",
   "execution_count": 26,
   "id": "8e7032e1-d821-4730-9394-ff8cf4d73d27",
   "metadata": {},
   "outputs": [],
   "source": [
    "joint_dataset = JointDataset(t_x, t_y)"
   ]
  },
  {
   "cell_type": "code",
   "execution_count": 27,
   "id": "2e753738-0765-4d77-98ef-a40c4db48a2b",
   "metadata": {},
   "outputs": [
    {
     "name": "stdout",
     "output_type": "stream",
     "text": [
      "(tensor([0.7576, 0.2793, 0.4031]), tensor(0))\n",
      "(tensor([0.7347, 0.0293, 0.7999]), tensor(1))\n",
      "(tensor([0.3971, 0.7544, 0.5695]), tensor(2))\n",
      "(tensor([0.4388, 0.6387, 0.5247]), tensor(3))\n"
     ]
    }
   ],
   "source": [
    "for exapmle in joint_dataset:\n",
    "    print(exapmle)"
   ]
  },
  {
   "cell_type": "code",
   "execution_count": 35,
   "id": "2782a1ca-45ba-46c0-b8db-302a975859c1",
   "metadata": {},
   "outputs": [
    {
     "name": "stdout",
     "output_type": "stream",
     "text": [
      "1 [tensor([[0.4388, 0.6387, 0.5247],\n",
      "        [0.7576, 0.2793, 0.4031],\n",
      "        [0.7347, 0.0293, 0.7999]]), tensor([3, 0, 1])]\n",
      "2 [tensor([[0.3971, 0.7544, 0.5695]]), tensor([2])]\n"
     ]
    }
   ],
   "source": [
    "# シャッフル、バッチ、リピート\n",
    "## バッチはもう↑でやった\n",
    "\n",
    "data_loader = DataLoader(dataset=joint_dataset, batch_size=3, shuffle=True)\n",
    "for i, batch in enumerate(data_loader, 1):\n",
    "    print(i, batch)"
   ]
  },
  {
   "cell_type": "code",
   "execution_count": null,
   "id": "f7af4fbe-047c-4877-9f7f-193ee8df13a5",
   "metadata": {},
   "outputs": [],
   "source": []
  }
 ],
 "metadata": {
  "kernelspec": {
   "display_name": "Python 3 (ipykernel)",
   "language": "python",
   "name": "python3"
  },
  "language_info": {
   "codemirror_mode": {
    "name": "ipython",
    "version": 3
   },
   "file_extension": ".py",
   "mimetype": "text/x-python",
   "name": "python",
   "nbconvert_exporter": "python",
   "pygments_lexer": "ipython3",
   "version": "3.11.4"
  }
 },
 "nbformat": 4,
 "nbformat_minor": 5
}

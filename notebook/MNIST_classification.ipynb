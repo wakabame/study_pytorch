{
 "cells": [
  {
   "cell_type": "markdown",
   "id": "dd508835-5e56-410b-97ab-807b1801757f",
   "metadata": {},
   "source": [
    "## MNIST の手書き文字の数字を分類する"
   ]
  },
  {
   "cell_type": "code",
   "execution_count": 1,
   "id": "cee767dc-80a7-4b5a-bbcc-fdc5a8547843",
   "metadata": {},
   "outputs": [],
   "source": [
    "import torch\n",
    "import torchvision\n",
    "from torch.utils.data import DataLoader\n",
    "from torchvision import transforms"
   ]
  },
  {
   "cell_type": "markdown",
   "id": "b44222ac-2ef5-4d78-b763-bf5adb580269",
   "metadata": {},
   "source": [
    "## 1. 前処理"
   ]
  },
  {
   "cell_type": "code",
   "execution_count": 2,
   "id": "95dc6d9f-31b5-4acd-b396-796be97cfe18",
   "metadata": {},
   "outputs": [],
   "source": [
    "image_path = \"./\"\n",
    "transform = transforms.Compose([transforms.ToTensor()])\n",
    "mnist_train_dataset = torchvision.datasets.MNIST(\n",
    "    root=image_path,\n",
    "    train=True,\n",
    "    transform=transform,\n",
    "    download=False,  # switch to True for first time\n",
    ")\n",
    "mnist_test_dataset = torchvision.datasets.MNIST(\n",
    "    root=image_path,\n",
    "    train=False,\n",
    "    transform=transform,\n",
    "    download=False,  # switch to True for first time\n",
    ")\n",
    "\n",
    "batch_size = 64\n",
    "torch.manual_seed(1)\n",
    "train_dl = DataLoader(mnist_train_dataset, batch_size, shuffle=True)"
   ]
  },
  {
   "cell_type": "markdown",
   "id": "02b79a9b-fee5-4046-9645-db16b53a021d",
   "metadata": {},
   "source": [
    "## 2. モデルの構築"
   ]
  },
  {
   "cell_type": "code",
   "execution_count": 3,
   "id": "2ef32b46-a6e1-4537-b5f6-07393d685c6c",
   "metadata": {},
   "outputs": [
    {
     "data": {
      "text/plain": [
       "Sequential(\n",
       "  (0): Flatten(start_dim=1, end_dim=-1)\n",
       "  (1): Linear(in_features=784, out_features=32, bias=True)\n",
       "  (2): ReLU()\n",
       "  (3): Linear(in_features=32, out_features=16, bias=True)\n",
       "  (4): ReLU()\n",
       "  (5): Linear(in_features=16, out_features=10, bias=True)\n",
       "  (6): Softmax(dim=1)\n",
       ")"
      ]
     },
     "execution_count": 3,
     "metadata": {},
     "output_type": "execute_result"
    }
   ],
   "source": [
    "import torch.nn as nn\n",
    "\n",
    "hidden_units = [32, 16]\n",
    "image_size = mnist_train_dataset[0][0].shape\n",
    "input_size = image_size[0] * image_size[1] * image_size[2]\n",
    "all_layers = [nn.Flatten()]\n",
    "for hidden_unit in hidden_units:\n",
    "    layer = nn.Linear(input_size, hidden_unit)\n",
    "    all_layers.append(layer)\n",
    "    all_layers.append(nn.ReLU())\n",
    "    input_size = hidden_unit\n",
    "\n",
    "all_layers.append(nn.Linear(hidden_units[-1], 10))\n",
    "all_layers.append(nn.Softmax(dim=1))\n",
    "model = nn.Sequential(*all_layers)\n",
    "model"
   ]
  },
  {
   "cell_type": "code",
   "execution_count": 4,
   "id": "d5739c8b-9164-4943-af55-a569dd46e862",
   "metadata": {},
   "outputs": [],
   "source": [
    "loss_fn = nn.CrossEntropyLoss()\n",
    "optimizer = torch.optim.Adam(model.parameters(), lr=0.001)"
   ]
  },
  {
   "cell_type": "code",
   "execution_count": 5,
   "id": "ba76a5b7-5809-40ce-b5e2-cd1fca660812",
   "metadata": {},
   "outputs": [
    {
     "name": "stdout",
     "output_type": "stream",
     "text": [
      "epoch=0 Accuracy: 0.7754\n",
      "epoch=1 Accuracy: 0.9152\n",
      "epoch=2 Accuracy: 0.9299\n",
      "epoch=3 Accuracy: 0.9384\n",
      "epoch=4 Accuracy: 0.9433\n",
      "epoch=5 Accuracy: 0.9470\n",
      "epoch=6 Accuracy: 0.9508\n",
      "epoch=7 Accuracy: 0.9538\n",
      "epoch=8 Accuracy: 0.9558\n",
      "epoch=9 Accuracy: 0.9572\n",
      "epoch=10 Accuracy: 0.9598\n",
      "epoch=11 Accuracy: 0.9610\n",
      "epoch=12 Accuracy: 0.9628\n",
      "epoch=13 Accuracy: 0.9645\n",
      "epoch=14 Accuracy: 0.9654\n",
      "epoch=15 Accuracy: 0.9673\n",
      "epoch=16 Accuracy: 0.9676\n",
      "epoch=17 Accuracy: 0.9695\n",
      "epoch=18 Accuracy: 0.9696\n",
      "epoch=19 Accuracy: 0.9711\n"
     ]
    }
   ],
   "source": [
    "torch.manual_seed(1)\n",
    "num_epochs = 20\n",
    "for epoch in range(num_epochs):\n",
    "    accuracy_hist_train = 0\n",
    "    for x_batch, y_batch in train_dl:\n",
    "        pred = model(x_batch)\n",
    "        loss = loss_fn(pred, y_batch)\n",
    "        loss.backward()\n",
    "        optimizer.step()\n",
    "        optimizer.zero_grad()\n",
    "        is_correct = (torch.argmax(pred, dim=1) == y_batch).float()\n",
    "        accuracy_hist_train += is_correct.sum()\n",
    "\n",
    "    accuracy_hist_train /= len(train_dl.dataset)\n",
    "    print(f\"{epoch=} Accuracy: {accuracy_hist_train:.4f}\")"
   ]
  },
  {
   "cell_type": "code",
   "execution_count": 6,
   "id": "a4ea6f2c-ce64-4e46-bd57-f4c10815d87f",
   "metadata": {},
   "outputs": [
    {
     "name": "stdout",
     "output_type": "stream",
     "text": [
      "Test Accuracy: 0.9566\n"
     ]
    }
   ],
   "source": [
    "pred = model(mnist_test_dataset.data / 255.0)\n",
    "is_correct = (torch.argmax(pred, dim=1) == mnist_test_dataset.targets).float()\n",
    "print(f\"Test Accuracy: {is_correct.mean():.4f}\")"
   ]
  },
  {
   "cell_type": "code",
   "execution_count": null,
   "id": "3e377a10-0568-4451-b2f1-cee914a67ede",
   "metadata": {},
   "outputs": [],
   "source": []
  }
 ],
 "metadata": {
  "kernelspec": {
   "display_name": "Python 3 (ipykernel)",
   "language": "python",
   "name": "python3"
  },
  "language_info": {
   "codemirror_mode": {
    "name": "ipython",
    "version": 3
   },
   "file_extension": ".py",
   "mimetype": "text/x-python",
   "name": "python",
   "nbconvert_exporter": "python",
   "pygments_lexer": "ipython3",
   "version": "3.10.12"
  }
 },
 "nbformat": 4,
 "nbformat_minor": 5
}
